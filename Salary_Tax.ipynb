{
  "nbformat": 4,
  "nbformat_minor": 0,
  "metadata": {
    "colab": {
      "name": "Salary Tax.ipynb",
      "provenance": [],
      "authorship_tag": "ABX9TyM8K3WqASvqtiwFH+u7g8rr",
      "include_colab_link": true
    },
    "kernelspec": {
      "name": "python3",
      "display_name": "Python 3"
    },
    "language_info": {
      "name": "python"
    }
  },
  "cells": [
    {
      "cell_type": "markdown",
      "metadata": {
        "id": "view-in-github",
        "colab_type": "text"
      },
      "source": [
        "<a href=\"https://colab.research.google.com/github/MaureenZac/Business-Analytics-with-Python/blob/main/Salary_Tax.ipynb\" target=\"_parent\"><img src=\"https://colab.research.google.com/assets/colab-badge.svg\" alt=\"Open In Colab\"/></a>"
      ]
    },
    {
      "cell_type": "code",
      "source": [
        "x=int(input(\"Enter the sal:\"))\n",
        "sal=x-250000\n",
        "if x > 250000 and x < 500000:\n",
        "  print(\"tax\",x*5/100)\n",
        "elif x > 500000 and x < 750000:\n",
        "  print(\"tax\",x*10/100)\n",
        "elif x > 750000 and x < 1000000:\n",
        "  print(\"tax\",x*20/100)\n",
        "elif x > 1000000:\n",
        "  print(\"tax\",x*30/100)\n",
        "\n"
      ],
      "metadata": {
        "colab": {
          "base_uri": "https://localhost:8080/"
        },
        "id": "SlOD4AxER86o",
        "outputId": "fe95c14a-ac44-4db4-a32f-143ab0692372"
      },
      "execution_count": 14,
      "outputs": [
        {
          "output_type": "stream",
          "name": "stdout",
          "text": [
            "Enter the sal:900000\n",
            "tax 180000.0\n"
          ]
        }
      ]
    },
    {
      "cell_type": "code",
      "source": [
        "y=int(input(\"Enter the HRA:\"))\n",
        "HRA=y-250000\n",
        "if y > 250000 and y < 500000:\n",
        "  print(\"tax\",y*5/100)\n",
        "elif y > 500000 and y < 750000:\n",
        "  print(\"tax\",y*10/100)\n",
        "elif y > 750000 and y < 1000000:\n",
        "  print(\"tax\",y*20/100)\n",
        "elif y > 1000000:\n",
        "  print(\"tax\",y*30/100)"
      ],
      "metadata": {
        "colab": {
          "base_uri": "https://localhost:8080/"
        },
        "id": "Z1IHec4oUN0l",
        "outputId": "fc83fa53-91be-457b-980b-9a708c77acf2"
      },
      "execution_count": 15,
      "outputs": [
        {
          "output_type": "stream",
          "name": "stdout",
          "text": [
            "Enter the HRA:450000\n",
            "tax 22500.0\n"
          ]
        }
      ]
    },
    {
      "cell_type": "code",
      "source": [
        "z=int(input(\"Enter the SA:\"))\n",
        "SA=z-250000\n",
        "if z > 250000 and z < 500000:\n",
        "  print(\"tax\",z*5/100)\n",
        "elif z > 500000 and z < 750000:\n",
        "  print(\"tax\",z*10/100)\n",
        "elif z > 750000 and z < 1000000:\n",
        "  print(\"tax\",z*20/100)\n",
        "elif z > 1000000:\n",
        "  print(\"tax\",z*30/100)"
      ],
      "metadata": {
        "colab": {
          "base_uri": "https://localhost:8080/"
        },
        "id": "jwO40IuAYh0R",
        "outputId": "211cb043-c0c6-41b2-fd0f-02ead378506d"
      },
      "execution_count": 17,
      "outputs": [
        {
          "output_type": "stream",
          "name": "stdout",
          "text": [
            "Enter the SA:650000\n",
            "tax 65000.0\n"
          ]
        }
      ]
    },
    {
      "cell_type": "code",
      "source": [
        "p=int(input(\"Enter LTA:\"))\n",
        "LTA=p-250000\n",
        "if p > 250000 and p < 500000:\n",
        "  print(\"tax\",p*5/100)\n",
        "elif p > 500000 and p < 750000:\n",
        "  print(\"tax\",p*10/100)\n",
        "elif p > 750000 and p < 1000000:\n",
        "  print(\"tax\",p*20/100)\n",
        "elif p > 1000000:\n",
        "  print(\"tax\",p*30/100)"
      ],
      "metadata": {
        "colab": {
          "base_uri": "https://localhost:8080/"
        },
        "id": "IofS8LqXbigt",
        "outputId": "ca598307-dddb-475d-8ee3-86a56b06e643"
      },
      "execution_count": 18,
      "outputs": [
        {
          "output_type": "stream",
          "name": "stdout",
          "text": [
            "Enter LTA:800000\n",
            "tax 160000.0\n"
          ]
        }
      ]
    },
    {
      "cell_type": "code",
      "source": [
        ""
      ],
      "metadata": {
        "id": "ax2-rrA2czd9"
      },
      "execution_count": null,
      "outputs": []
    }
  ]
}