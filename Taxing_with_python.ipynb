{
  "nbformat": 4,
  "nbformat_minor": 0,
  "metadata": {
    "colab": {
      "name": "Taxing with python.ipynb",
      "provenance": [],
      "collapsed_sections": []
    },
    "kernelspec": {
      "name": "python3",
      "display_name": "Python 3"
    },
    "language_info": {
      "name": "python"
    }
  },
  "cells": [
    {
      "cell_type": "code",
      "source": [
        "x=input(\"Enter the first number\")\n",
        "y=input(\"Enter the second number\")"
      ],
      "metadata": {
        "colab": {
          "base_uri": "https://localhost:8080/"
        },
        "id": "5LDlVyPiPJpt",
        "outputId": "27654da2-ce34-40c4-87e6-f394cd26d79b"
      },
      "execution_count": null,
      "outputs": [
        {
          "name": "stdout",
          "output_type": "stream",
          "text": [
            "Enter the first number560\n",
            "Enter the second number450\n"
          ]
        }
      ]
    },
    {
      "cell_type": "code",
      "source": [
        "print(x+y)"
      ],
      "metadata": {
        "colab": {
          "base_uri": "https://localhost:8080/"
        },
        "id": "_Aq8jQ3-PrUC",
        "outputId": "4764891d-a946-4b35-b1b8-b1e9f3277de4"
      },
      "execution_count": null,
      "outputs": [
        {
          "output_type": "stream",
          "name": "stdout",
          "text": [
            "560450\n"
          ]
        }
      ]
    },
    {
      "cell_type": "code",
      "source": [
        "x=input(\"Enter the first number\")\n",
        "y=input(\"Enter the second number\")"
      ],
      "metadata": {
        "id": "OIHrGi7qPw-o",
        "colab": {
          "base_uri": "https://localhost:8080/"
        },
        "outputId": "c5ac5986-6008-4a24-e371-752f8d146ed1"
      },
      "execution_count": 6,
      "outputs": [
        {
          "name": "stdout",
          "output_type": "stream",
          "text": [
            "Enter the first number560\n",
            "Enter the second number450\n"
          ]
        }
      ]
    },
    {
      "cell_type": "code",
      "source": [
        "int(x)+int(y)"
      ],
      "metadata": {
        "colab": {
          "base_uri": "https://localhost:8080/"
        },
        "id": "VHqyaiOkQD6q",
        "outputId": "811d8420-f6bf-4b3c-b738-e007950cd5bf"
      },
      "execution_count": 7,
      "outputs": [
        {
          "output_type": "execute_result",
          "data": {
            "text/plain": [
              "1010"
            ]
          },
          "metadata": {},
          "execution_count": 7
        }
      ]
    },
    {
      "cell_type": "code",
      "source": [
        "int(x)-int(y)"
      ],
      "metadata": {
        "colab": {
          "base_uri": "https://localhost:8080/"
        },
        "id": "pAAKhlKeQH0R",
        "outputId": "1e50ecd9-8297-4c1e-d9a5-f1d435e59fe0"
      },
      "execution_count": 8,
      "outputs": [
        {
          "output_type": "execute_result",
          "data": {
            "text/plain": [
              "110"
            ]
          },
          "metadata": {},
          "execution_count": 8
        }
      ]
    },
    {
      "cell_type": "code",
      "source": [
        "int(x)*int(y)"
      ],
      "metadata": {
        "colab": {
          "base_uri": "https://localhost:8080/"
        },
        "id": "FaykNrbmQKaZ",
        "outputId": "6cd99730-38e9-420f-bf69-99ee707becbd"
      },
      "execution_count": 9,
      "outputs": [
        {
          "output_type": "execute_result",
          "data": {
            "text/plain": [
              "252000"
            ]
          },
          "metadata": {},
          "execution_count": 9
        }
      ]
    },
    {
      "cell_type": "code",
      "source": [
        "int(x)/int(y)"
      ],
      "metadata": {
        "colab": {
          "base_uri": "https://localhost:8080/"
        },
        "id": "diKjcgoaQM85",
        "outputId": "4459e9bf-3077-4fa4-ad73-5449f3d9be12"
      },
      "execution_count": 10,
      "outputs": [
        {
          "output_type": "execute_result",
          "data": {
            "text/plain": [
              "1.2444444444444445"
            ]
          },
          "metadata": {},
          "execution_count": 10
        }
      ]
    },
    {
      "cell_type": "code",
      "source": [
        "x=int(input(\"Enter the first number\"))\n",
        "y=int(input(\"Enter the second number\"))"
      ],
      "metadata": {
        "colab": {
          "base_uri": "https://localhost:8080/"
        },
        "outputId": "f5af19f1-871e-48b5-dec6-525e6e4b7efe",
        "id": "ERMa-hSbRvfm"
      },
      "execution_count": 11,
      "outputs": [
        {
          "name": "stdout",
          "output_type": "stream",
          "text": [
            "Enter the first number560\n",
            "Enter the second number450\n"
          ]
        }
      ]
    },
    {
      "cell_type": "code",
      "source": [
        "x+y"
      ],
      "metadata": {
        "colab": {
          "base_uri": "https://localhost:8080/"
        },
        "id": "7jM9n7d9R3Bu",
        "outputId": "f9c9da92-7d42-448e-936e-7e9534146341"
      },
      "execution_count": 12,
      "outputs": [
        {
          "output_type": "execute_result",
          "data": {
            "text/plain": [
              "1010"
            ]
          },
          "metadata": {},
          "execution_count": 12
        }
      ]
    },
    {
      "cell_type": "code",
      "source": [
        "x-y"
      ],
      "metadata": {
        "colab": {
          "base_uri": "https://localhost:8080/"
        },
        "id": "njjJ5eIiR6fl",
        "outputId": "65945f15-4601-4776-cf5e-b75aba8640ac"
      },
      "execution_count": 13,
      "outputs": [
        {
          "output_type": "execute_result",
          "data": {
            "text/plain": [
              "110"
            ]
          },
          "metadata": {},
          "execution_count": 13
        }
      ]
    },
    {
      "cell_type": "code",
      "source": [
        "x*y"
      ],
      "metadata": {
        "colab": {
          "base_uri": "https://localhost:8080/"
        },
        "id": "GgmoOG2iR7u9",
        "outputId": "ae873b1a-0957-4e17-892a-1f1033c8ecdf"
      },
      "execution_count": 14,
      "outputs": [
        {
          "output_type": "execute_result",
          "data": {
            "text/plain": [
              "252000"
            ]
          },
          "metadata": {},
          "execution_count": 14
        }
      ]
    },
    {
      "cell_type": "code",
      "source": [
        "x/y"
      ],
      "metadata": {
        "colab": {
          "base_uri": "https://localhost:8080/"
        },
        "id": "gnsv1C11R8yt",
        "outputId": "e977986b-9537-45f2-8315-697be554d1c2"
      },
      "execution_count": 15,
      "outputs": [
        {
          "output_type": "execute_result",
          "data": {
            "text/plain": [
              "1.2444444444444445"
            ]
          },
          "metadata": {},
          "execution_count": 15
        }
      ]
    },
    {
      "cell_type": "code",
      "source": [
        "p=int(input(\"Enter the principal amount\"))\n",
        "n=int(input(\"Enter the number of years\"))\n",
        "r=int(input(\"Enter the rate of interest\"))/100\n"
      ],
      "metadata": {
        "colab": {
          "base_uri": "https://localhost:8080/"
        },
        "outputId": "bb239865-8095-4b61-b6e7-985cb1360167",
        "id": "95c666PNUfvd"
      },
      "execution_count": 21,
      "outputs": [
        {
          "name": "stdout",
          "output_type": "stream",
          "text": [
            "Enter the principal amount50000\n",
            "Enter the number of years5\n",
            "Enter the rate of interest5\n"
          ]
        }
      ]
    },
    {
      "cell_type": "code",
      "source": [
        "i=p*n*r"
      ],
      "metadata": {
        "id": "m6b4M-_oU4EW"
      },
      "execution_count": 22,
      "outputs": []
    },
    {
      "cell_type": "code",
      "source": [
        "print(i)"
      ],
      "metadata": {
        "colab": {
          "base_uri": "https://localhost:8080/"
        },
        "id": "Amyi8OBmVAtt",
        "outputId": "1fe05e1d-7bcf-4e78-f95e-03efda88844b"
      },
      "execution_count": 23,
      "outputs": [
        {
          "output_type": "stream",
          "name": "stdout",
          "text": [
            "1250000\n"
          ]
        }
      ]
    },
    {
      "cell_type": "code",
      "source": [
        "x=int(input(\"Enter your mark\"))"
      ],
      "metadata": {
        "colab": {
          "base_uri": "https://localhost:8080/"
        },
        "id": "791RhhU-VCfr",
        "outputId": "585c0203-3aae-45e5-dda0-d326e470d6c5"
      },
      "execution_count": 24,
      "outputs": [
        {
          "name": "stdout",
          "output_type": "stream",
          "text": [
            "Enter your mark80\n"
          ]
        }
      ]
    },
    {
      "cell_type": "code",
      "source": [
        "if x > 50 :\n",
        "  print(\"You are pass\")\n",
        "if x < 50 :\n",
        "  print(\"You are fail\")  "
      ],
      "metadata": {
        "colab": {
          "base_uri": "https://localhost:8080/"
        },
        "id": "09egm9JCX3Ag",
        "outputId": "d23cab8b-8e49-4cd0-904c-c0ef958e02ec"
      },
      "execution_count": 25,
      "outputs": [
        {
          "output_type": "stream",
          "name": "stdout",
          "text": [
            "You are pass\n"
          ]
        }
      ]
    },
    {
      "cell_type": "code",
      "source": [
        "x=int(input(\"Entery your salary\"))"
      ],
      "metadata": {
        "colab": {
          "base_uri": "https://localhost:8080/"
        },
        "id": "FVE4pU3XYUee",
        "outputId": "0418e8c4-fed0-4b0d-830a-37b25cbddec3"
      },
      "execution_count": 26,
      "outputs": [
        {
          "name": "stdout",
          "output_type": "stream",
          "text": [
            "Entery your salary560000\n"
          ]
        }
      ]
    },
    {
      "cell_type": "code",
      "source": [
        "if x > 250000 :\n",
        "  print(\"You are taxable\")\n",
        "if x < 250000 :\n",
        "  print(\"You are not taxable\")  "
      ],
      "metadata": {
        "colab": {
          "base_uri": "https://localhost:8080/"
        },
        "id": "dyfpDb9-af7F",
        "outputId": "b64d735b-44e6-4d9a-ef10-f6cd205f2996"
      },
      "execution_count": 27,
      "outputs": [
        {
          "output_type": "stream",
          "name": "stdout",
          "text": [
            "You are taxable\n"
          ]
        }
      ]
    },
    {
      "cell_type": "code",
      "source": [
        "sal=int(input(\"Entery your salary\"))\n",
        "if sal > 250000:\n",
        "  print(\"You are taxable\")\n",
        "if sal < 250000:\n",
        "  print(\"You are not taxable\")  \n"
      ],
      "metadata": {
        "colab": {
          "base_uri": "https://localhost:8080/"
        },
        "outputId": "fb51c78c-18bc-4fbf-a237-aaae232d60bc",
        "id": "Vw7v6Og6bIs_"
      },
      "execution_count": 28,
      "outputs": [
        {
          "output_type": "stream",
          "name": "stdout",
          "text": [
            "Entery your salary560000\n",
            "You are taxable\n"
          ]
        }
      ]
    },
    {
      "cell_type": "code",
      "source": [
        "sal=int(input(\"Entery your salary\"))\n",
        "if sal > 250000:\n",
        "  print(\"You are taxable\")\n",
        "  t=sal*10/100\n",
        "  print(\"tax = \",t)\n",
        "else :\n",
        "  print(\"You are not taxable\")  \n"
      ],
      "metadata": {
        "colab": {
          "base_uri": "https://localhost:8080/"
        },
        "outputId": "f8ae81eb-2dae-417f-feb0-bf53a53d8149",
        "id": "KQ1k95Fpby3P"
      },
      "execution_count": 33,
      "outputs": [
        {
          "output_type": "stream",
          "name": "stdout",
          "text": [
            "Entery your salary560000\n",
            "You are taxable\n",
            "tax =  56000.0\n"
          ]
        }
      ]
    },
    {
      "cell_type": "code",
      "source": [
        "sal=int(input(\"Entery your salary\"))\n",
        "if sal > 250000:\n",
        "  print(\"You are taxable\")\n",
        "  t=sal-250000\n",
        "  tax=int(t*10/100)\n",
        "  print(\"tax = \",tax)\n",
        "else :\n",
        "  print(\"You are not taxable\")  \n"
      ],
      "metadata": {
        "colab": {
          "base_uri": "https://localhost:8080/"
        },
        "outputId": "4bd3bc47-c214-4a5a-caec-c679d03ee0e0",
        "id": "pd7UN5Yxdfuh"
      },
      "execution_count": 37,
      "outputs": [
        {
          "output_type": "stream",
          "name": "stdout",
          "text": [
            "Entery your salary560000\n",
            "You are taxable\n",
            "tax =  31000\n"
          ]
        }
      ]
    },
    {
      "cell_type": "code",
      "source": [
        "sal=int(input(\"Entery your salary\"))\n",
        "if sal > 250000:\n",
        "  print(\"You are taxable\")\n",
        "  if sal > 500000 :\n",
        "    t=sal-250000\n",
        "    tax=t*10/100\n",
        "    print(\"tax = \",tax)\n",
        "  else:\n",
        "    tax=sal*20/100\n",
        "    print(\"Your tax =\",tax)\n",
        "else :\n",
        "  print(\"You are not taxable\")  \n"
      ],
      "metadata": {
        "colab": {
          "base_uri": "https://localhost:8080/"
        },
        "outputId": "8574731c-84bd-4d34-b477-0a5c127e12e3",
        "id": "DskY7d36hthv"
      },
      "execution_count": 40,
      "outputs": [
        {
          "output_type": "stream",
          "name": "stdout",
          "text": [
            "Entery your salary450000\n",
            "You are taxable\n",
            "Your tax = 90000.0\n"
          ]
        }
      ]
    },
    {
      "cell_type": "code",
      "source": [
        ""
      ],
      "metadata": {
        "id": "yKPq6Vgli63W"
      },
      "execution_count": 40,
      "outputs": []
    }
  ]
}