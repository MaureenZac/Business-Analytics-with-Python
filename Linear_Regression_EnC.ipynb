{
  "nbformat": 4,
  "nbformat_minor": 0,
  "metadata": {
    "colab": {
      "name": "Linear Regression EnC.ipynb",
      "provenance": [],
      "authorship_tag": "ABX9TyPdzmmfky/NLsgSTsBunJY8",
      "include_colab_link": true
    },
    "kernelspec": {
      "name": "python3",
      "display_name": "Python 3"
    },
    "language_info": {
      "name": "python"
    }
  },
  "cells": [
    {
      "cell_type": "markdown",
      "metadata": {
        "id": "view-in-github",
        "colab_type": "text"
      },
      "source": [
        "<a href=\"https://colab.research.google.com/github/MaureenZac/Business-Analytics-with-Python/blob/main/Linear_Regression_EnC.ipynb\" target=\"_parent\"><img src=\"https://colab.research.google.com/assets/colab-badge.svg\" alt=\"Open In Colab\"/></a>"
      ]
    },
    {
      "cell_type": "code",
      "execution_count": 1,
      "metadata": {
        "id": "vGY3x1hBLlpH"
      },
      "outputs": [],
      "source": [
        "import numpy as np\n",
        "import matplotlib.pyplot as plt\n",
        "import pandas as pd\n"
      ]
    },
    {
      "cell_type": "code",
      "source": [
        "dataset=pd.read_csv(\"NKE.csv\")"
      ],
      "metadata": {
        "id": "uUXJHGDvLwnx"
      },
      "execution_count": 2,
      "outputs": []
    },
    {
      "cell_type": "code",
      "source": [
        "x = dataset.iloc[:, :-1].values\n",
        "y = dataset.iloc[:, -1].values"
      ],
      "metadata": {
        "id": "13R3ttf7L7TS"
      },
      "execution_count": 3,
      "outputs": []
    },
    {
      "cell_type": "code",
      "source": [
        "x"
      ],
      "metadata": {
        "colab": {
          "base_uri": "https://localhost:8080/"
        },
        "id": "BYYF-nIbMBaF",
        "outputId": "ec2bf716-a820-4460-aeb8-a3c662029514"
      },
      "execution_count": 4,
      "outputs": [
        {
          "output_type": "execute_result",
          "data": {
            "text/plain": [
              "array([[44424.],\n",
              "       [44425.],\n",
              "       [44426.],\n",
              "       [44427.],\n",
              "       [44428.],\n",
              "       [44431.],\n",
              "       [44432.],\n",
              "       [44433.],\n",
              "       [44434.],\n",
              "       [44435.],\n",
              "       [44438.],\n",
              "       [44439.],\n",
              "       [44440.],\n",
              "       [44441.],\n",
              "       [44442.],\n",
              "       [44446.],\n",
              "       [44447.],\n",
              "       [44448.],\n",
              "       [44449.],\n",
              "       [44452.],\n",
              "       [44453.],\n",
              "       [44454.],\n",
              "       [44455.],\n",
              "       [44456.],\n",
              "       [44459.],\n",
              "       [44460.],\n",
              "       [44461.],\n",
              "       [44462.],\n",
              "       [44463.],\n",
              "       [44466.],\n",
              "       [44467.],\n",
              "       [44468.],\n",
              "       [44469.],\n",
              "       [44470.],\n",
              "       [44473.],\n",
              "       [44474.],\n",
              "       [44475.],\n",
              "       [44476.],\n",
              "       [44477.],\n",
              "       [44480.],\n",
              "       [44481.],\n",
              "       [44482.],\n",
              "       [44483.],\n",
              "       [44484.],\n",
              "       [44487.],\n",
              "       [44488.],\n",
              "       [44489.],\n",
              "       [44490.],\n",
              "       [44491.],\n",
              "       [44494.],\n",
              "       [44495.],\n",
              "       [44496.],\n",
              "       [44497.],\n",
              "       [44498.],\n",
              "       [44501.],\n",
              "       [44502.],\n",
              "       [44503.],\n",
              "       [44504.],\n",
              "       [44505.],\n",
              "       [44508.],\n",
              "       [44509.],\n",
              "       [44510.],\n",
              "       [44511.],\n",
              "       [44512.],\n",
              "       [44515.],\n",
              "       [44516.],\n",
              "       [44517.],\n",
              "       [44518.],\n",
              "       [44519.],\n",
              "       [44522.],\n",
              "       [44523.],\n",
              "       [44524.],\n",
              "       [44526.],\n",
              "       [44529.],\n",
              "       [44530.],\n",
              "       [44531.],\n",
              "       [44532.],\n",
              "       [44533.],\n",
              "       [44536.],\n",
              "       [44537.],\n",
              "       [44538.],\n",
              "       [44539.],\n",
              "       [44540.],\n",
              "       [44543.],\n",
              "       [44544.],\n",
              "       [44545.],\n",
              "       [44546.],\n",
              "       [44547.],\n",
              "       [44550.],\n",
              "       [44551.],\n",
              "       [44552.],\n",
              "       [44553.],\n",
              "       [44557.],\n",
              "       [44558.],\n",
              "       [44559.],\n",
              "       [44560.],\n",
              "       [44561.],\n",
              "       [44564.],\n",
              "       [44565.],\n",
              "       [44566.],\n",
              "       [44567.],\n",
              "       [44568.],\n",
              "       [44571.],\n",
              "       [44572.],\n",
              "       [44573.],\n",
              "       [44574.],\n",
              "       [44575.],\n",
              "       [44579.],\n",
              "       [44580.],\n",
              "       [44581.],\n",
              "       [44582.],\n",
              "       [44585.],\n",
              "       [44586.],\n",
              "       [44587.],\n",
              "       [44588.],\n",
              "       [44589.],\n",
              "       [44592.],\n",
              "       [44593.],\n",
              "       [44594.],\n",
              "       [44595.],\n",
              "       [44596.],\n",
              "       [44599.],\n",
              "       [44600.],\n",
              "       [44601.],\n",
              "       [44602.],\n",
              "       [44603.],\n",
              "       [44606.],\n",
              "       [44607.],\n",
              "       [44608.],\n",
              "       [44609.],\n",
              "       [44610.],\n",
              "       [44614.],\n",
              "       [44615.],\n",
              "       [44616.],\n",
              "       [44617.],\n",
              "       [44620.],\n",
              "       [44621.],\n",
              "       [44622.],\n",
              "       [44623.],\n",
              "       [44624.],\n",
              "       [44627.],\n",
              "       [44628.],\n",
              "       [44629.],\n",
              "       [44630.],\n",
              "       [44631.],\n",
              "       [44634.],\n",
              "       [44635.],\n",
              "       [44636.],\n",
              "       [44637.],\n",
              "       [44638.],\n",
              "       [44641.],\n",
              "       [44642.],\n",
              "       [44643.],\n",
              "       [44644.],\n",
              "       [44645.],\n",
              "       [44648.],\n",
              "       [44649.],\n",
              "       [44650.],\n",
              "       [44651.],\n",
              "       [44652.],\n",
              "       [44655.],\n",
              "       [44656.],\n",
              "       [44657.],\n",
              "       [44658.],\n",
              "       [44659.],\n",
              "       [44662.],\n",
              "       [44663.],\n",
              "       [44664.],\n",
              "       [44665.],\n",
              "       [44669.],\n",
              "       [44670.],\n",
              "       [44671.],\n",
              "       [44672.],\n",
              "       [44673.],\n",
              "       [44676.],\n",
              "       [44677.],\n",
              "       [44678.],\n",
              "       [44679.],\n",
              "       [44680.],\n",
              "       [44683.],\n",
              "       [44684.],\n",
              "       [44685.],\n",
              "       [44686.],\n",
              "       [44687.],\n",
              "       [44690.],\n",
              "       [44691.],\n",
              "       [44692.],\n",
              "       [44693.],\n",
              "       [44694.],\n",
              "       [44697.],\n",
              "       [44698.],\n",
              "       [44699.],\n",
              "       [44700.],\n",
              "       [44701.],\n",
              "       [44704.],\n",
              "       [44705.],\n",
              "       [44706.],\n",
              "       [44707.],\n",
              "       [44708.],\n",
              "       [44712.],\n",
              "       [44713.],\n",
              "       [44714.],\n",
              "       [44715.],\n",
              "       [44718.],\n",
              "       [44719.],\n",
              "       [44720.],\n",
              "       [44721.],\n",
              "       [44722.],\n",
              "       [44725.],\n",
              "       [44726.],\n",
              "       [44727.],\n",
              "       [44728.],\n",
              "       [44729.],\n",
              "       [44733.],\n",
              "       [44734.],\n",
              "       [44735.],\n",
              "       [44736.],\n",
              "       [44739.],\n",
              "       [44740.],\n",
              "       [44741.],\n",
              "       [44742.],\n",
              "       [44743.],\n",
              "       [44747.],\n",
              "       [44748.],\n",
              "       [44749.],\n",
              "       [44750.],\n",
              "       [44753.],\n",
              "       [44754.],\n",
              "       [44755.],\n",
              "       [44756.],\n",
              "       [44757.],\n",
              "       [44760.],\n",
              "       [44761.],\n",
              "       [44762.],\n",
              "       [44763.],\n",
              "       [44764.],\n",
              "       [44767.],\n",
              "       [44768.],\n",
              "       [44769.],\n",
              "       [44770.],\n",
              "       [44771.],\n",
              "       [44774.],\n",
              "       [44775.],\n",
              "       [44776.],\n",
              "       [44777.],\n",
              "       [44778.],\n",
              "       [44781.],\n",
              "       [44782.],\n",
              "       [44783.],\n",
              "       [44784.],\n",
              "       [44785.],\n",
              "       [44788.],\n",
              "       [44789.]])"
            ]
          },
          "metadata": {},
          "execution_count": 4
        }
      ]
    },
    {
      "cell_type": "code",
      "source": [
        "y"
      ],
      "metadata": {
        "colab": {
          "base_uri": "https://localhost:8080/"
        },
        "id": "fs8VxgNUMCVt",
        "outputId": "44fb6988-0b1a-4df8-d8b0-3a0008529d82"
      },
      "execution_count": 5,
      "outputs": [
        {
          "output_type": "execute_result",
          "data": {
            "text/plain": [
              "array([170.699997, 171.539993, 169.75    , 166.960007, 166.270004,\n",
              "       169.449997, 169.600006, 170.      , 169.380005, 167.270004,\n",
              "       167.889999, 167.550003, 164.919998, 165.240005, 163.199997,\n",
              "       163.699997, 162.      , 165.259995, 164.25    , 161.559998,\n",
              "       159.169998, 157.5     , 157.589996, 157.960007, 153.729996,\n",
              "       155.089996, 156.789993, 158.710007, 151.039993, 149.509995,\n",
              "       147.339996, 145.710007, 145.880005, 145.220001, 147.059998,\n",
              "       148.      , 148.      , 150.300003, 152.220001, 151.990005,\n",
              "       152.419998, 154.320007, 158.179993, 157.800003, 157.309998,\n",
              "       159.679993, 158.5     , 158.449997, 162.279999, 163.229996,\n",
              "       164.820007, 163.649994, 163.009995, 163.059998, 167.800003,\n",
              "       166.759995, 169.      , 172.210007, 175.729996, 176.350006,\n",
              "       171.25    , 171.229996, 169.600006, 167.5     , 169.699997,\n",
              "       169.25    , 171.600006, 172.330002, 172.149994, 174.979996,\n",
              "       173.050003, 168.490005, 168.059998, 169.830002, 168.789993,\n",
              "       170.889999, 167.279999, 170.619995, 170.830002, 171.110001,\n",
              "       171.220001, 169.289993, 168.5     , 168.809998, 166.289993,\n",
              "       165.      , 162.699997, 161.630005, 159.339996, 166.690002,\n",
              "       167.240005, 166.25    , 166.520004, 167.800003, 167.070007,\n",
              "       168.309998, 167.559998, 167.529999, 165.880005, 166.490005,\n",
              "       162.089996, 160.770004, 150.520004, 150.479996, 152.130005,\n",
              "       153.199997, 148.389999, 148.059998, 147.759995, 145.460007,\n",
              "       144.320007, 140.809998, 144.970001, 147.779999, 144.990005,\n",
              "       144.119995, 146.270004, 149.5     , 148.350006, 147.399994,\n",
              "       145.369995, 145.300003, 144.740005, 146.110001, 143.960007,\n",
              "       144.759995, 140.080002, 144.220001, 145.020004, 145.539993,\n",
              "       143.369995, 141.589996, 139.660004, 133.      , 138.130005,\n",
              "       137.059998, 136.720001, 132.979996, 136.740005, 132.509995,\n",
              "       131.      , 125.239998, 127.379997, 124.019997, 127.010002,\n",
              "       121.529999, 119.839996, 122.849998, 124.940002, 126.849998,\n",
              "       129.720001, 137.279999, 132.639999, 133.75    , 133.050003,\n",
              "       133.759995, 137.850006, 138.979996, 137.830002, 134.449997,\n",
              "       133.050003, 134.039993, 130.050003, 127.43    , 129.440002,\n",
              "       125.099998, 125.199997, 125.040001, 129.080002, 132.      ,\n",
              "       133.089996, 137.960007, 138.550003, 134.330002, 127.800003,\n",
              "       126.949997, 121.089996, 123.169998, 126.220001, 124.43    ,\n",
              "       125.019997, 122.540001, 124.110001, 113.739998, 112.970001,\n",
              "       113.029999, 110.699997, 105.18    , 110.260002, 112.980003,\n",
              "       115.5     , 112.5     , 108.949997, 108.669998, 107.470001,\n",
              "       107.110001, 103.459999, 110.      , 114.220001, 117.5     ,\n",
              "       119.830002, 119.510002, 120.209999, 121.5     , 118.660004,\n",
              "       120.900002, 121.349998, 117.089996, 110.389999, 110.370003,\n",
              "       112.160004, 109.510002, 106.150002, 108.459999, 105.400002,\n",
              "       105.010002, 109.93    , 112.239998, 108.199997, 102.989998,\n",
              "       101.940002, 101.639999, 100.449997, 104.889999, 105.650002,\n",
              "       106.580002, 106.599998, 105.010002, 101.940002, 103.110001,\n",
              "       104.760002, 106.190002, 105.599998, 109.220001, 110.370003,\n",
              "       111.93    , 109.610001, 107.480003, 106.300003, 109.43    ,\n",
              "       112.760002, 114.      , 113.57    , 113.419998, 114.639999,\n",
              "       112.790001, 114.      , 111.32    , 113.239998, 114.879997,\n",
              "       114.389999, 115.449997, 115.940002])"
            ]
          },
          "metadata": {},
          "execution_count": 5
        }
      ]
    },
    {
      "cell_type": "code",
      "source": [
        "from sklearn.model_selection import train_test_split\n",
        "x_train, x_test, y_train, y_test = train_test_split(x, y, test_size = 0.2, random_state = 0)"
      ],
      "metadata": {
        "id": "c1dZXaM6MCtG"
      },
      "execution_count": 6,
      "outputs": []
    },
    {
      "cell_type": "code",
      "source": [
        "from sklearn.linear_model import LinearRegression\n",
        "regressor = LinearRegression()\n",
        "regressor.fit(x_train, y_train)"
      ],
      "metadata": {
        "colab": {
          "base_uri": "https://localhost:8080/"
        },
        "id": "knEZDv1FMMc9",
        "outputId": "aa2ef571-656e-429e-f419-9c0b85a5c416"
      },
      "execution_count": 7,
      "outputs": [
        {
          "output_type": "execute_result",
          "data": {
            "text/plain": [
              "LinearRegression()"
            ]
          },
          "metadata": {},
          "execution_count": 7
        }
      ]
    },
    {
      "cell_type": "code",
      "source": [
        "y_pred = regressor.predict(x_test)"
      ],
      "metadata": {
        "id": "foQ8kb6cMPXy"
      },
      "execution_count": 8,
      "outputs": []
    },
    {
      "cell_type": "code",
      "source": [
        "plt.scatter(x_test, y_test, color = 'red')\n",
        "plt.scatter(x_train, y_train, color = 'green')\n",
        "plt.plot(x_test, y_pred, color = 'blue')\n",
        "plt.show()"
      ],
      "metadata": {
        "colab": {
          "base_uri": "https://localhost:8080/",
          "height": 269
        },
        "id": "ZU-k-GejMSRd",
        "outputId": "2e38be87-008a-43a5-eafe-5b5d6e9fba66"
      },
      "execution_count": 9,
      "outputs": [
        {
          "output_type": "display_data",
          "data": {
            "text/plain": [
              "<Figure size 432x288 with 1 Axes>"
            ],
            "image/png": "[encoded data removed]"
          },
          "metadata": {
            "needs_background": "light"
          }
        }
      ]
    },
    {
      "cell_type": "code",
      "source": [
        ""
      ],
      "metadata": {
        "id": "rdl4yi5nMWXU"
      },
      "execution_count": null,
      "outputs": []
    }
  ]
}